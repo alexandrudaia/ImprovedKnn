{
 "cells": [
  {
   "cell_type": "code",
   "execution_count": 11,
   "metadata": {
    "collapsed": false
   },
   "outputs": [],
   "source": [
    "class KineticKnn(object):\n",
    "    \n",
    "    def  __init__(self,train,kinetic,KLdiv,optim_percent):\n",
    "        self.train=train\n",
    "        self.test=test\n",
    "        self.optimization_percent=optimization_percent\n",
    "        self.KLdivergence=Kldivergence\n",
    "        self.kinetic=kinetic\n",
    "    def compute_kinetic(self):\n",
    "        \"\"\" to do \"\"\"\n",
    "    def compute_euclidean_dist(self):\n",
    "        \"\"\"to do \"\"\"\n",
    "    def  compute_KLDivergence(self):\n",
    "        \"\"\" to do\"\"\"\n",
    "    def predict(self,datan, neighbours):\n",
    "        \"\"\"to do\"\"\"\n",
    "        "
   ]
  },
  {
   "cell_type": "code",
   "execution_count": null,
   "metadata": {
    "collapsed": true
   },
   "outputs": [],
   "source": [
    " "
   ]
  }
 ],
 "metadata": {
  "kernelspec": {
   "display_name": "Python 3",
   "language": "python",
   "name": "python3"
  },
  "language_info": {
   "codemirror_mode": {
    "name": "ipython",
    "version": 3
   },
   "file_extension": ".py",
   "mimetype": "text/x-python",
   "name": "python",
   "nbconvert_exporter": "python",
   "pygments_lexer": "ipython3",
   "version": "3.5.1"
  }
 },
 "nbformat": 4,
 "nbformat_minor": 0
}
